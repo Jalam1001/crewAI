{
  "nbformat": 4,
  "nbformat_minor": 0,
  "metadata": {
    "colab": {
      "provenance": [],
      "include_colab_link": true
    },
    "kernelspec": {
      "name": "python3",
      "display_name": "Python 3"
    },
    "language_info": {
      "name": "python"
    }
  },
  "cells": [
    {
      "cell_type": "markdown",
      "metadata": {
        "id": "view-in-github",
        "colab_type": "text"
      },
      "source": [
        "<a href=\"https://colab.research.google.com/github/Jalam1001/crewAI/blob/main/BusinessPlan.ipynb\" target=\"_parent\"><img src=\"https://colab.research.google.com/assets/colab-badge.svg\" alt=\"Open In Colab\"/></a>"
      ]
    },
    {
      "cell_type": "code",
      "execution_count": null,
      "metadata": {
        "id": "HhZgFSuPqtQQ"
      },
      "outputs": [],
      "source": [
        "!git clone https://github.com/hectorpine/BusinessPlan.git"
      ]
    },
    {
      "cell_type": "code",
      "source": [
        "!curl -sSL https://install.python-poetry.org | python3 -\n"
      ],
      "metadata": {
        "id": "HvrFGRTArVXg"
      },
      "execution_count": null,
      "outputs": []
    },
    {
      "cell_type": "markdown",
      "source": [],
      "metadata": {
        "id": "vMEdGQYmr6Rt"
      }
    },
    {
      "cell_type": "code",
      "source": [
        "import os\n",
        "os.environ['PATH'] += \":/root/.local/bin\"\n"
      ],
      "metadata": {
        "id": "eyQHP_BSr8i6"
      },
      "execution_count": 14,
      "outputs": []
    },
    {
      "cell_type": "code",
      "source": [
        "cd BusinessPlan/"
      ],
      "metadata": {
        "id": "2Qca_cQjsTAo"
      },
      "execution_count": null,
      "outputs": []
    },
    {
      "cell_type": "code",
      "source": [
        "!poetry install --no-root\n"
      ],
      "metadata": {
        "id": "MsIP7pSxsijC"
      },
      "execution_count": null,
      "outputs": []
    },
    {
      "cell_type": "code",
      "source": [
        "!pip install crewAI"
      ],
      "metadata": {
        "id": "ivBjUSAitsHd"
      },
      "execution_count": null,
      "outputs": []
    },
    {
      "cell_type": "code",
      "source": [
        "!pip install python-decouple"
      ],
      "metadata": {
        "id": "dF1LsXJ_uTvY"
      },
      "execution_count": null,
      "outputs": []
    },
    {
      "cell_type": "code",
      "source": [
        "!pip install -U duckduckgo-search"
      ],
      "metadata": {
        "id": "6gb1u0h9ugjv"
      },
      "execution_count": null,
      "outputs": []
    },
    {
      "cell_type": "markdown",
      "source": [
        "add open_api_key in the mai.py"
      ],
      "metadata": {
        "id": "5dY8Bf7VO0Do"
      }
    },
    {
      "cell_type": "code",
      "source": [
        "!python main.py"
      ],
      "metadata": {
        "id": "pI6BqAZGuxxC"
      },
      "execution_count": null,
      "outputs": []
    },
    {
      "cell_type": "code",
      "source": [],
      "metadata": {
        "id": "XwaeK9Nzu0fa"
      },
      "execution_count": null,
      "outputs": []
    }
  ]
}